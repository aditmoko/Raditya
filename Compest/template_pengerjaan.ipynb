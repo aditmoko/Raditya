{
 "cells": [
  {
   "cell_type": "markdown",
   "metadata": {},
   "source": [
    "# **Impor Data**"
   ]
  },
  {
   "cell_type": "code",
   "execution_count": 1,
   "metadata": {},
   "outputs": [
    {
     "name": "stdout",
     "output_type": "stream",
     "text": [
      "seleksi-data-science-academy-compfest-16.zip: Skipping, found more recently modified local copy (use --force to force download)\n"
     ]
    }
   ],
   "source": [
    "!kaggle competitions download -c seleksi-data-science-academy-compfest-16"
   ]
  },
  {
   "cell_type": "code",
   "execution_count": 2,
   "metadata": {},
   "outputs": [],
   "source": [
    "from zipfile import ZipFile\n",
    "with ZipFile('seleksi-data-science-academy-compfest-16.zip', 'r') as f:\n",
    "\n",
    "    f.extractall()"
   ]
  },
  {
   "cell_type": "markdown",
   "metadata": {},
   "source": [
    "# **Libraries**"
   ]
  },
  {
   "cell_type": "code",
   "execution_count": 3,
   "metadata": {},
   "outputs": [],
   "source": [
    "import warnings\n",
    "\n",
    "# Menetapkan aturan untuk mengabaikan semua warning\n",
    "warnings.filterwarnings(\"ignore\")\n",
    "\n",
    "\n",
    "import pandas as pd \n",
    "import numpy as np\n",
    "import matplotlib.pyplot as plt\n",
    "import seaborn as sns\n",
    "import scipy.stats as stats\n",
    "from scipy.stats import spearmanr\n",
    "from sklearn.preprocessing import StandardScaler, MinMaxScaler\n",
    "from sklearn.model_selection import train_test_split"
   ]
  },
  {
   "cell_type": "markdown",
   "metadata": {},
   "source": [
    "# **Data Loading**"
   ]
  },
  {
   "cell_type": "code",
   "execution_count": 4,
   "metadata": {},
   "outputs": [],
   "source": [
    "df_train = pd.read_csv(\"train.csv\")\n",
    "df_test = pd.read_csv(\"test.csv\")\n",
    "sample_submission = pd.read_csv(\"sample_submission.csv\")\n"
   ]
  },
  {
   "cell_type": "code",
   "execution_count": 5,
   "metadata": {
    "scrolled": true
   },
   "outputs": [
    {
     "data": {
      "text/plain": [
       "(   id  Alkalinity, total  Calcium  Chloride  Fluoride  Magnesium  \\\n",
       " 0   0              120.0     24.0       6.9     0.314        7.1   \n",
       " 1   1              140.0     41.0      11.0     0.150        6.5   \n",
       " 2   2              160.0     51.0       9.0     0.450        9.1   \n",
       " 3   3               46.0     13.0       2.9     0.120        2.7   \n",
       " 4   4              240.0    147.0      70.0     0.600       48.0   \n",
       " \n",
       "    Nitrate as N  Sodium  Specific Conductivity  Sulfate  \\\n",
       " 0         0.498    48.0                  510.0     23.2   \n",
       " 1         0.950    19.0                  300.0      8.5   \n",
       " 2         2.500    12.0                  370.0     25.0   \n",
       " 3         0.430     6.4                  110.0      5.0   \n",
       " 4         6.800    93.0                 1410.0    418.0   \n",
       " \n",
       "    Total Dissolved Solids  Hardness  \n",
       " 0                   240.0      90.4  \n",
       " 1                   190.0     130.0  \n",
       " 2                   230.0     160.0  \n",
       " 3                    97.0      41.0  \n",
       " 4                   950.0     586.0  ,\n",
       "      id  Alkalinity, total  Calcium  Chloride  Fluoride  Magnesium  \\\n",
       " 0  6400               93.0     15.9       3.6     0.100       11.9   \n",
       " 1  6401              180.0     34.0     200.0     1.900        8.2   \n",
       " 2  6402               95.0     44.0      35.0     0.081        3.3   \n",
       " 3  6403              110.0     29.0      12.0     0.250        6.0   \n",
       " 4  6404              179.0     59.0      51.7     0.160       45.0   \n",
       " \n",
       "    Nitrate as N  Sodium  Specific Conductivity  Sulfate  \\\n",
       " 0          1.40    12.7                  208.0      6.5   \n",
       " 1          1.30   300.0                 1700.0    210.0   \n",
       " 2          1.10    28.0                  390.0     22.0   \n",
       " 3          0.15    23.0                  283.0     15.0   \n",
       " 4          4.10    64.0                  976.0    170.0   \n",
       " \n",
       "    Total Dissolved Solids  \n",
       " 0                   156.0  \n",
       " 1                   860.0  \n",
       " 2                   240.0  \n",
       " 3                   190.0  \n",
       " 4                   430.0  ,\n",
       "      id  Hardness\n",
       " 0  6400         0\n",
       " 1  6401         0\n",
       " 2  6402         0\n",
       " 3  6403         0\n",
       " 4  6404         0)"
      ]
     },
     "execution_count": 5,
     "metadata": {},
     "output_type": "execute_result"
    }
   ],
   "source": [
    "df_train.head(), df_test.head(), sample_submission.head()"
   ]
  },
  {
   "cell_type": "code",
   "execution_count": 6,
   "metadata": {},
   "outputs": [
    {
     "name": "stdout",
     "output_type": "stream",
     "text": [
      "<class 'pandas.core.frame.DataFrame'>\n",
      "RangeIndex: 6400 entries, 0 to 6399\n",
      "Data columns (total 12 columns):\n",
      " #   Column                  Non-Null Count  Dtype  \n",
      "---  ------                  --------------  -----  \n",
      " 0   id                      6400 non-null   int64  \n",
      " 1   Alkalinity, total       6400 non-null   float64\n",
      " 2   Calcium                 6400 non-null   float64\n",
      " 3   Chloride                6400 non-null   float64\n",
      " 4   Fluoride                6400 non-null   float64\n",
      " 5   Magnesium               6400 non-null   float64\n",
      " 6   Nitrate as N            6400 non-null   float64\n",
      " 7   Sodium                  6400 non-null   float64\n",
      " 8   Specific Conductivity   6400 non-null   float64\n",
      " 9   Sulfate                 6400 non-null   float64\n",
      " 10  Total Dissolved Solids  6400 non-null   float64\n",
      " 11  Hardness                6400 non-null   float64\n",
      "dtypes: float64(11), int64(1)\n",
      "memory usage: 600.1 KB\n"
     ]
    }
   ],
   "source": [
    "df_train.info()\n"
   ]
  },
  {
   "cell_type": "code",
   "execution_count": 7,
   "metadata": {},
   "outputs": [
    {
     "data": {
      "text/html": [
       "<div>\n",
       "<style scoped>\n",
       "    .dataframe tbody tr th:only-of-type {\n",
       "        vertical-align: middle;\n",
       "    }\n",
       "\n",
       "    .dataframe tbody tr th {\n",
       "        vertical-align: top;\n",
       "    }\n",
       "\n",
       "    .dataframe thead th {\n",
       "        text-align: right;\n",
       "    }\n",
       "</style>\n",
       "<table border=\"1\" class=\"dataframe\">\n",
       "  <thead>\n",
       "    <tr style=\"text-align: right;\">\n",
       "      <th></th>\n",
       "      <th>id</th>\n",
       "      <th>Alkalinity, total</th>\n",
       "      <th>Calcium</th>\n",
       "      <th>Chloride</th>\n",
       "      <th>Fluoride</th>\n",
       "      <th>Magnesium</th>\n",
       "      <th>Nitrate as N</th>\n",
       "      <th>Sodium</th>\n",
       "      <th>Specific Conductivity</th>\n",
       "      <th>Sulfate</th>\n",
       "      <th>Total Dissolved Solids</th>\n",
       "      <th>Hardness</th>\n",
       "    </tr>\n",
       "  </thead>\n",
       "  <tbody>\n",
       "    <tr>\n",
       "      <th>count</th>\n",
       "      <td>6400.000000</td>\n",
       "      <td>6400.000000</td>\n",
       "      <td>6400.000000</td>\n",
       "      <td>6400.000000</td>\n",
       "      <td>6400.000000</td>\n",
       "      <td>6400.000000</td>\n",
       "      <td>6400.000000</td>\n",
       "      <td>6400.000000</td>\n",
       "      <td>6400.000000</td>\n",
       "      <td>6400.000000</td>\n",
       "      <td>6400.000000</td>\n",
       "      <td>6400.000000</td>\n",
       "    </tr>\n",
       "    <tr>\n",
       "      <th>mean</th>\n",
       "      <td>3199.500000</td>\n",
       "      <td>167.151047</td>\n",
       "      <td>69.350432</td>\n",
       "      <td>53.213620</td>\n",
       "      <td>0.333625</td>\n",
       "      <td>23.446335</td>\n",
       "      <td>3.382707</td>\n",
       "      <td>62.437731</td>\n",
       "      <td>637.631953</td>\n",
       "      <td>71.645934</td>\n",
       "      <td>409.570669</td>\n",
       "      <td>216.148203</td>\n",
       "    </tr>\n",
       "    <tr>\n",
       "      <th>std</th>\n",
       "      <td>1847.665193</td>\n",
       "      <td>83.157803</td>\n",
       "      <td>1052.136452</td>\n",
       "      <td>92.934505</td>\n",
       "      <td>0.452473</td>\n",
       "      <td>325.389503</td>\n",
       "      <td>4.878279</td>\n",
       "      <td>556.891904</td>\n",
       "      <td>597.297274</td>\n",
       "      <td>108.414049</td>\n",
       "      <td>302.958442</td>\n",
       "      <td>161.431526</td>\n",
       "    </tr>\n",
       "    <tr>\n",
       "      <th>min</th>\n",
       "      <td>0.000000</td>\n",
       "      <td>12.000000</td>\n",
       "      <td>0.610000</td>\n",
       "      <td>0.580000</td>\n",
       "      <td>0.049000</td>\n",
       "      <td>0.051000</td>\n",
       "      <td>0.002300</td>\n",
       "      <td>1.300000</td>\n",
       "      <td>40.000000</td>\n",
       "      <td>0.140000</td>\n",
       "      <td>19.580000</td>\n",
       "      <td>2.500000</td>\n",
       "    </tr>\n",
       "    <tr>\n",
       "      <th>25%</th>\n",
       "      <td>1599.750000</td>\n",
       "      <td>110.000000</td>\n",
       "      <td>25.000000</td>\n",
       "      <td>11.000000</td>\n",
       "      <td>0.140000</td>\n",
       "      <td>7.300000</td>\n",
       "      <td>0.850000</td>\n",
       "      <td>21.000000</td>\n",
       "      <td>340.000000</td>\n",
       "      <td>13.000000</td>\n",
       "      <td>220.000000</td>\n",
       "      <td>101.000000</td>\n",
       "    </tr>\n",
       "    <tr>\n",
       "      <th>50%</th>\n",
       "      <td>3199.500000</td>\n",
       "      <td>153.500000</td>\n",
       "      <td>45.000000</td>\n",
       "      <td>28.000000</td>\n",
       "      <td>0.210000</td>\n",
       "      <td>14.000000</td>\n",
       "      <td>2.000000</td>\n",
       "      <td>35.000000</td>\n",
       "      <td>520.000000</td>\n",
       "      <td>33.000000</td>\n",
       "      <td>320.000000</td>\n",
       "      <td>180.000000</td>\n",
       "    </tr>\n",
       "    <tr>\n",
       "      <th>75%</th>\n",
       "      <td>4799.250000</td>\n",
       "      <td>209.000000</td>\n",
       "      <td>72.000000</td>\n",
       "      <td>62.000000</td>\n",
       "      <td>0.382250</td>\n",
       "      <td>25.000000</td>\n",
       "      <td>4.300000</td>\n",
       "      <td>60.000000</td>\n",
       "      <td>800.000000</td>\n",
       "      <td>85.000000</td>\n",
       "      <td>500.000000</td>\n",
       "      <td>281.000000</td>\n",
       "    </tr>\n",
       "    <tr>\n",
       "      <th>max</th>\n",
       "      <td>6399.000000</td>\n",
       "      <td>1000.000000</td>\n",
       "      <td>83000.000000</td>\n",
       "      <td>2100.000000</td>\n",
       "      <td>9.000000</td>\n",
       "      <td>26000.000000</td>\n",
       "      <td>106.000000</td>\n",
       "      <td>32000.000000</td>\n",
       "      <td>31400.000000</td>\n",
       "      <td>2000.000000</td>\n",
       "      <td>4100.000000</td>\n",
       "      <td>1901.000000</td>\n",
       "    </tr>\n",
       "  </tbody>\n",
       "</table>\n",
       "</div>"
      ],
      "text/plain": [
       "                id  Alkalinity, total       Calcium     Chloride     Fluoride  \\\n",
       "count  6400.000000        6400.000000   6400.000000  6400.000000  6400.000000   \n",
       "mean   3199.500000         167.151047     69.350432    53.213620     0.333625   \n",
       "std    1847.665193          83.157803   1052.136452    92.934505     0.452473   \n",
       "min       0.000000          12.000000      0.610000     0.580000     0.049000   \n",
       "25%    1599.750000         110.000000     25.000000    11.000000     0.140000   \n",
       "50%    3199.500000         153.500000     45.000000    28.000000     0.210000   \n",
       "75%    4799.250000         209.000000     72.000000    62.000000     0.382250   \n",
       "max    6399.000000        1000.000000  83000.000000  2100.000000     9.000000   \n",
       "\n",
       "          Magnesium  Nitrate as N        Sodium  Specific Conductivity  \\\n",
       "count   6400.000000   6400.000000   6400.000000            6400.000000   \n",
       "mean      23.446335      3.382707     62.437731             637.631953   \n",
       "std      325.389503      4.878279    556.891904             597.297274   \n",
       "min        0.051000      0.002300      1.300000              40.000000   \n",
       "25%        7.300000      0.850000     21.000000             340.000000   \n",
       "50%       14.000000      2.000000     35.000000             520.000000   \n",
       "75%       25.000000      4.300000     60.000000             800.000000   \n",
       "max    26000.000000    106.000000  32000.000000           31400.000000   \n",
       "\n",
       "           Sulfate  Total Dissolved Solids     Hardness  \n",
       "count  6400.000000             6400.000000  6400.000000  \n",
       "mean     71.645934              409.570669   216.148203  \n",
       "std     108.414049              302.958442   161.431526  \n",
       "min       0.140000               19.580000     2.500000  \n",
       "25%      13.000000              220.000000   101.000000  \n",
       "50%      33.000000              320.000000   180.000000  \n",
       "75%      85.000000              500.000000   281.000000  \n",
       "max    2000.000000             4100.000000  1901.000000  "
      ]
     },
     "execution_count": 7,
     "metadata": {},
     "output_type": "execute_result"
    }
   ],
   "source": [
    "df_train.describe()"
   ]
  },
  {
   "cell_type": "markdown",
   "metadata": {},
   "source": [
    "# **EDA**"
   ]
  },
  {
   "cell_type": "markdown",
   "metadata": {},
   "source": [
    "3a. Berapa Hardness rata-rata dari sumber air yang memiliki kadar sodium di atas\n",
    "persentil 75 dan memiliki tingkat kebasaan (Alkalinity) di atas rata-rata?\n"
   ]
  },
  {
   "cell_type": "code",
   "execution_count": 8,
   "metadata": {},
   "outputs": [
    {
     "name": "stdout",
     "output_type": "stream",
     "text": [
      "Rata-rata Hardness dari data yang difilter adalah 383.0833134765625\n"
     ]
    }
   ],
   "source": [
    "persentil_75_sodium = df_train['Sodium'].quantile(0.75)\n",
    "rata_rata_alkalinity = df_train['Alkalinity, total'].mean()\n",
    "data_filtered = df_train[(df_train['Sodium'] > persentil_75_sodium) & (df_train['Alkalinity, total'] > rata_rata_alkalinity)]\n",
    "rata_rata_hardness = data_filtered['Hardness'].mean()\n",
    "print(\"Rata-rata Hardness dari data yang difilter adalah\", rata_rata_hardness)"
   ]
  },
  {
   "cell_type": "markdown",
   "metadata": {},
   "source": [
    "3b. Apakah ada sumber air yang memiliki tingkat kebasaan (Alkalinity) yang dapat\n",
    "dianggap outlier? Jelaskan!"
   ]
  },
  {
   "cell_type": "code",
   "execution_count": 9,
   "metadata": {},
   "outputs": [
    {
     "name": "stdout",
     "output_type": "stream",
     "text": [
      "Sumber air yang memiliki tingkat kebasaan (alkalinity) yang dapat dianggap outlier:         id  Alkalinity, total  Calcium  Chloride  Fluoride  Magnesium  \\\n",
      "34      34              400.0    31.00     160.0      0.40      43.00   \n",
      "36      36              360.0    16.00     170.0      1.70      14.00   \n",
      "39      39              617.0    87.30     179.0      1.20      71.20   \n",
      "48      48              360.0   153.00     146.0      0.10      90.00   \n",
      "54      54              370.0    69.89      82.8      0.21      32.51   \n",
      "...    ...                ...      ...       ...       ...        ...   \n",
      "6193  6193              410.0   110.00     130.0      0.61      72.00   \n",
      "6204  6204              390.0    81.00      66.0      0.27      53.00   \n",
      "6206  6206              390.0    52.00      98.0      0.29      35.00   \n",
      "6323  6323              461.0   126.00     119.0      0.20      58.00   \n",
      "6363  6363              450.0   200.00     170.0      0.48      57.00   \n",
      "\n",
      "      Nitrate as N  Sodium  Specific Conductivity  Sulfate  \\\n",
      "34            1.30   290.0                 1290.0     42.0   \n",
      "36            1.10   270.0                 1600.0    170.0   \n",
      "39            4.40    96.0                 1640.0     47.2   \n",
      "48            1.50    56.0                 1600.0    320.0   \n",
      "54            0.90    88.0                  928.0     84.6   \n",
      "...            ...     ...                    ...      ...   \n",
      "6193          5.00    81.0                 1100.0    220.0   \n",
      "6204          4.30    43.0                 1100.0     65.0   \n",
      "6206          0.77   110.0                  930.0    100.0   \n",
      "6323          0.70    94.0                 1300.0    112.0   \n",
      "6363          0.12    89.0                  570.0    180.0   \n",
      "\n",
      "      Total Dissolved Solids  Hardness  \n",
      "34                     700.0     272.0  \n",
      "36                     760.0      28.0  \n",
      "39                     940.0     511.0  \n",
      "48                    1070.0     752.0  \n",
      "54                     530.0     288.0  \n",
      "...                      ...       ...  \n",
      "6193                   900.0     550.0  \n",
      "6204                   500.0     420.0  \n",
      "6206                   570.0     306.0  \n",
      "6323                   823.0     553.0  \n",
      "6363                  1500.0     730.0  \n",
      "\n",
      "[174 rows x 12 columns]\n"
     ]
    }
   ],
   "source": [
    "#Menghitung Q1 dan Q3 utk alkalinity\n",
    "Q1 = df_train['Alkalinity, total'].quantile(0.25)\n",
    "Q3 = df_train['Alkalinity, total'].quantile(0.75)\n",
    "\n",
    "#Menghitung IQR\n",
    "IQR = Q3 - Q1\n",
    "\n",
    "# Menentukan batas bawah dan batas atas untuk mendeteksi outlier\n",
    "lower_bound = Q1 - 1.5 * IQR\n",
    "upper_bound = Q3 + 1.5 * IQR\n",
    "\n",
    "# Menyaring data yang merupakan outlier\n",
    "outliers = df_train[(df_train['Alkalinity, total'] < lower_bound) | (df_train['Alkalinity, total'] > upper_bound)]\n",
    "\n",
    "#Menampilkan Outliers\n",
    "print(\"Sumber air yang memiliki tingkat kebasaan (alkalinity) yang dapat dianggap outlier:\", outliers)\n"
   ]
  },
  {
   "cell_type": "markdown",
   "metadata": {},
   "source": [
    "4. Apakah ada hubungan antara Specific Conductivity dan Hardness? Jelaskan!\n"
   ]
  },
  {
   "cell_type": "code",
   "execution_count": 10,
   "metadata": {},
   "outputs": [
    {
     "name": "stdout",
     "output_type": "stream",
     "text": [
      "Korelasi Spearman: 0.8384758509743198\n",
      "P-value: 0.0\n"
     ]
    },
    {
     "data": {
      "image/png": "[encoded data removed]",
      "text/plain": [
       "<Figure size 1000x600 with 1 Axes>"
      ]
     },
     "metadata": {},
     "output_type": "display_data"
    }
   ],
   "source": [
    "# Mengambil kolom yang diinginkan\n",
    "specific_conductivity = df_train['Specific Conductivity']\n",
    "hardness = df_train['Hardness']\n",
    "\n",
    "# Menghitung korelasi Spearman\n",
    "correlation, p_value = spearmanr(specific_conductivity, hardness)\n",
    "\n",
    "# Menampilkan hasil korelasi dan p-value\n",
    "print(\"Korelasi Spearman:\", correlation)\n",
    "print(\"P-value:\", p_value)\n",
    "\n",
    "# Scatter plot\n",
    "plt.figure(figsize=(10, 6))\n",
    "sns.scatterplot(x='Specific Conductivity', y='Hardness', data=df_train)\n",
    "plt.title('Scatter Plot of Specific Conductivity vs Hardness')\n",
    "plt.xlabel('Specific Conductivity')\n",
    "plt.ylabel('Hardness')\n",
    "plt.grid(True)\n",
    "plt.show()\n"
   ]
  },
  {
   "cell_type": "markdown",
   "metadata": {},
   "source": [
    "5. Dari zat-zat kimia yang diberikan, zat-zat apa saja yang paling mempengaruhi dan paling\n",
    "tidak mempengaruhi Hardness? Jelaskan!\n"
   ]
  },
  {
   "cell_type": "code",
   "execution_count": 11,
   "metadata": {},
   "outputs": [
    {
     "name": "stdout",
     "output_type": "stream",
     "text": [
      "Spearman Correlations with Hardness:\n",
      "Fluoride                  0.164161\n",
      "Nitrate as N              0.304983\n",
      "Sodium                    0.424676\n",
      "Chloride                  0.606693\n",
      "Sulfate                   0.711235\n",
      "Alkalinity, total         0.758763\n",
      "Total Dissolved Solids    0.832212\n",
      "Specific Conductivity     0.838476\n",
      "Magnesium                 0.847766\n",
      "Calcium                   0.892554\n",
      "Hardness                  1.000000\n",
      "Name: Hardness, dtype: float64\n",
      "\n",
      "Most Influential Chemicals on Hardness:\n",
      "Hardness                 1.000000\n",
      "Calcium                  0.892554\n",
      "Magnesium                0.847766\n",
      "Specific Conductivity    0.838476\n",
      "Name: Hardness, dtype: float64\n",
      "\n",
      "Least Influential Chemicals on Hardness:\n",
      "Fluoride        0.164161\n",
      "Nitrate as N    0.304983\n",
      "Sodium          0.424676\n",
      "Name: Hardness, dtype: float64\n"
     ]
    }
   ],
   "source": [
    "# Define the columns to consider for correlation (exclude 'id' and non-chemical properties)\n",
    "chemical_columns = [col for col in df_train.columns if col not in ['id', 'Hardness']]\n",
    "\n",
    "# Calculate Spearman correlation for all chemical properties with 'Hardness'\n",
    "spearman_correlations = df_train[chemical_columns + ['Hardness']].corr(method='spearman')['Hardness'].sort_values()\n",
    "\n",
    "# Display correlations\n",
    "print(\"Spearman Correlations with Hardness:\")\n",
    "print(spearman_correlations)\n",
    "\n",
    "# Identify the most and least influential chemicals\n",
    "print(\"\\nMost Influential Chemicals on Hardness:\")\n",
    "print(spearman_correlations.abs().nlargest(4))\n",
    "\n",
    "print(\"\\nLeast Influential Chemicals on Hardness:\")\n",
    "print(spearman_correlations.abs().nsmallest(3))\n"
   ]
  },
  {
   "cell_type": "markdown",
   "metadata": {},
   "source": [
    "6. Apakah ada pasangan zat kimia yang berkorelasi tinggi? Apakah ada efek dari korelasi\n",
    "tersebut?"
   ]
  },
  {
   "cell_type": "code",
   "execution_count": 12,
   "metadata": {},
   "outputs": [
    {
     "data": {
      "text/html": [
       "<div>\n",
       "<style scoped>\n",
       "    .dataframe tbody tr th:only-of-type {\n",
       "        vertical-align: middle;\n",
       "    }\n",
       "\n",
       "    .dataframe tbody tr th {\n",
       "        vertical-align: top;\n",
       "    }\n",
       "\n",
       "    .dataframe thead th {\n",
       "        text-align: right;\n",
       "    }\n",
       "</style>\n",
       "<table border=\"1\" class=\"dataframe\">\n",
       "  <thead>\n",
       "    <tr style=\"text-align: right;\">\n",
       "      <th></th>\n",
       "      <th></th>\n",
       "      <th>Spearman Correlation</th>\n",
       "    </tr>\n",
       "  </thead>\n",
       "  <tbody>\n",
       "    <tr>\n",
       "      <th>Total Dissolved Solids</th>\n",
       "      <th>Specific Conductivity</th>\n",
       "      <td>0.951120</td>\n",
       "    </tr>\n",
       "    <tr>\n",
       "      <th>Specific Conductivity</th>\n",
       "      <th>Total Dissolved Solids</th>\n",
       "      <td>0.951120</td>\n",
       "    </tr>\n",
       "    <tr>\n",
       "      <th>Hardness</th>\n",
       "      <th>Calcium</th>\n",
       "      <td>0.892554</td>\n",
       "    </tr>\n",
       "    <tr>\n",
       "      <th>Calcium</th>\n",
       "      <th>Hardness</th>\n",
       "      <td>0.892554</td>\n",
       "    </tr>\n",
       "    <tr>\n",
       "      <th>Hardness</th>\n",
       "      <th>Magnesium</th>\n",
       "      <td>0.847766</td>\n",
       "    </tr>\n",
       "    <tr>\n",
       "      <th>Magnesium</th>\n",
       "      <th>Hardness</th>\n",
       "      <td>0.847766</td>\n",
       "    </tr>\n",
       "    <tr>\n",
       "      <th>Hardness</th>\n",
       "      <th>Specific Conductivity</th>\n",
       "      <td>0.838476</td>\n",
       "    </tr>\n",
       "    <tr>\n",
       "      <th>Specific Conductivity</th>\n",
       "      <th>Hardness</th>\n",
       "      <td>0.838476</td>\n",
       "    </tr>\n",
       "    <tr>\n",
       "      <th>Total Dissolved Solids</th>\n",
       "      <th>Hardness</th>\n",
       "      <td>0.832212</td>\n",
       "    </tr>\n",
       "    <tr>\n",
       "      <th>Hardness</th>\n",
       "      <th>Total Dissolved Solids</th>\n",
       "      <td>0.832212</td>\n",
       "    </tr>\n",
       "    <tr>\n",
       "      <th>Sulfate</th>\n",
       "      <th>Specific Conductivity</th>\n",
       "      <td>0.817004</td>\n",
       "    </tr>\n",
       "    <tr>\n",
       "      <th>Specific Conductivity</th>\n",
       "      <th>Sulfate</th>\n",
       "      <td>0.817004</td>\n",
       "    </tr>\n",
       "    <tr>\n",
       "      <th>Chloride</th>\n",
       "      <th>Specific Conductivity</th>\n",
       "      <td>0.811741</td>\n",
       "    </tr>\n",
       "    <tr>\n",
       "      <th>Specific Conductivity</th>\n",
       "      <th>Chloride</th>\n",
       "      <td>0.811741</td>\n",
       "    </tr>\n",
       "    <tr>\n",
       "      <th>Sulfate</th>\n",
       "      <th>Total Dissolved Solids</th>\n",
       "      <td>0.809101</td>\n",
       "    </tr>\n",
       "    <tr>\n",
       "      <th>Total Dissolved Solids</th>\n",
       "      <th>Sulfate</th>\n",
       "      <td>0.809101</td>\n",
       "    </tr>\n",
       "    <tr>\n",
       "      <th>Chloride</th>\n",
       "      <th>Total Dissolved Solids</th>\n",
       "      <td>0.801095</td>\n",
       "    </tr>\n",
       "    <tr>\n",
       "      <th>Total Dissolved Solids</th>\n",
       "      <th>Chloride</th>\n",
       "      <td>0.801095</td>\n",
       "    </tr>\n",
       "  </tbody>\n",
       "</table>\n",
       "</div>"
      ],
      "text/plain": [
       "                                               Spearman Correlation\n",
       "Total Dissolved Solids Specific Conductivity               0.951120\n",
       "Specific Conductivity  Total Dissolved Solids              0.951120\n",
       "Hardness               Calcium                             0.892554\n",
       "Calcium                Hardness                            0.892554\n",
       "Hardness               Magnesium                           0.847766\n",
       "Magnesium              Hardness                            0.847766\n",
       "Hardness               Specific Conductivity               0.838476\n",
       "Specific Conductivity  Hardness                            0.838476\n",
       "Total Dissolved Solids Hardness                            0.832212\n",
       "Hardness               Total Dissolved Solids              0.832212\n",
       "Sulfate                Specific Conductivity               0.817004\n",
       "Specific Conductivity  Sulfate                             0.817004\n",
       "Chloride               Specific Conductivity               0.811741\n",
       "Specific Conductivity  Chloride                            0.811741\n",
       "Sulfate                Total Dissolved Solids              0.809101\n",
       "Total Dissolved Solids Sulfate                             0.809101\n",
       "Chloride               Total Dissolved Solids              0.801095\n",
       "Total Dissolved Solids Chloride                            0.801095"
      ]
     },
     "execution_count": 12,
     "metadata": {},
     "output_type": "execute_result"
    }
   ],
   "source": [
    "# Calculate the Spearman correlation matrix for all chemical substances\n",
    "spearman_correlation_matrix = df_train.corr(method='spearman')\n",
    "\n",
    "# Identify pairs of substances with high correlation (e.g., above 0.8 or below -0.8)\n",
    "high_correlation_pairs = spearman_correlation_matrix.unstack().sort_values(kind=\"quicksort\", ascending=False)\n",
    "high_correlation_pairs = high_correlation_pairs[high_correlation_pairs != 1]  # Remove self-correlations\n",
    "\n",
    "high_correlation_pairs = high_correlation_pairs[(high_correlation_pairs > 0.8) | (high_correlation_pairs < -0.8)]\n",
    "\n",
    "# Display the high correlation pairs\n",
    "high_correlation_pairs_df = pd.DataFrame(high_correlation_pairs, columns=[\"Spearman Correlation\"])\n",
    "high_correlation_pairs_df\n"
   ]
  },
  {
   "cell_type": "markdown",
   "metadata": {},
   "source": [
    "## <h3><b>Preprocessing</h3>"
   ]
  },
  {
   "cell_type": "markdown",
   "metadata": {},
   "source": [
    "### <h3>Missing Value Handling</h3>"
   ]
  },
  {
   "cell_type": "code",
   "execution_count": 42,
   "metadata": {},
   "outputs": [
    {
     "data": {
      "text/plain": [
       "(id                        0\n",
       " Alkalinity, total         0\n",
       " Calcium                   0\n",
       " Chloride                  0\n",
       " Fluoride                  0\n",
       " Magnesium                 0\n",
       " Nitrate as N              0\n",
       " Sodium                    0\n",
       " Specific Conductivity     0\n",
       " Sulfate                   0\n",
       " Total Dissolved Solids    0\n",
       " Hardness                  0\n",
       " dtype: int64,\n",
       " id                        0\n",
       " Alkalinity, total         0\n",
       " Calcium                   0\n",
       " Chloride                  0\n",
       " Fluoride                  0\n",
       " Magnesium                 0\n",
       " Nitrate as N              0\n",
       " Sodium                    0\n",
       " Specific Conductivity     0\n",
       " Sulfate                   0\n",
       " Total Dissolved Solids    0\n",
       " dtype: int64)"
      ]
     },
     "execution_count": 42,
     "metadata": {},
     "output_type": "execute_result"
    }
   ],
   "source": [
    "missing_values_train = df_train.isnull().sum()\n",
    "missing_values_test = df_test.isnull().sum()\n",
    "\n",
    "missing_values_train, missing_values_test\n"
   ]
  },
  {
   "cell_type": "markdown",
   "metadata": {},
   "source": [
    "### <h3>Data Types</h3>"
   ]
  },
  {
   "cell_type": "code",
   "execution_count": 43,
   "metadata": {},
   "outputs": [
    {
     "data": {
      "text/plain": [
       "(id                          int64\n",
       " Alkalinity, total         float64\n",
       " Calcium                   float64\n",
       " Chloride                  float64\n",
       " Fluoride                  float64\n",
       " Magnesium                 float64\n",
       " Nitrate as N              float64\n",
       " Sodium                    float64\n",
       " Specific Conductivity     float64\n",
       " Sulfate                   float64\n",
       " Total Dissolved Solids    float64\n",
       " Hardness                  float64\n",
       " dtype: object,\n",
       " id                          int64\n",
       " Alkalinity, total         float64\n",
       " Calcium                   float64\n",
       " Chloride                  float64\n",
       " Fluoride                  float64\n",
       " Magnesium                 float64\n",
       " Nitrate as N              float64\n",
       " Sodium                    float64\n",
       " Specific Conductivity     float64\n",
       " Sulfate                   float64\n",
       " Total Dissolved Solids    float64\n",
       " dtype: object)"
      ]
     },
     "execution_count": 43,
     "metadata": {},
     "output_type": "execute_result"
    }
   ],
   "source": [
    "data_types_train = df_train.dtypes\n",
    "data_types_test = df_test.dtypes\n",
    "\n",
    "data_types_train, data_types_test\n"
   ]
  },
  {
   "cell_type": "markdown",
   "metadata": {},
   "source": [
    "### <h3>Feature Scalling</h3>"
   ]
  },
  {
   "cell_type": "code",
   "execution_count": 45,
   "metadata": {},
   "outputs": [
    {
     "data": {
      "text/plain": [
       "(   id  Alkalinity, total   Calcium  Chloride  Fluoride  Magnesium  \\\n",
       " 0   0          -0.567051 -0.043107 -0.498386 -0.043376  -0.050240   \n",
       " 1   1          -0.326526 -0.026948 -0.454265 -0.405857  -0.052084   \n",
       " 2   2          -0.086000 -0.017442 -0.475787  0.257218  -0.044093   \n",
       " 3   3          -1.456995 -0.053562 -0.541430 -0.472164  -0.063763   \n",
       " 4   4           0.876101  0.073808  0.180640  0.588756   0.075465   \n",
       " \n",
       "    Nitrate as N    Sodium  Specific Conductivity   Sulfate  \\\n",
       " 0     -0.591383 -0.025928              -0.213699 -0.446895   \n",
       " 1     -0.498720 -0.078006              -0.565310 -0.582497   \n",
       " 2     -0.180961 -0.090577              -0.448107 -0.430291   \n",
       " 3     -0.605324 -0.100634              -0.883435 -0.614783   \n",
       " 4      0.700567  0.054884               1.293206  3.194984   \n",
       " \n",
       "    Total Dissolved Solids  Hardness  \n",
       " 0               -0.559760      90.4  \n",
       " 1               -0.724812     130.0  \n",
       " 2               -0.592770     160.0  \n",
       " 3               -1.031808      41.0  \n",
       " 4                1.783979     586.0  ,\n",
       "      id  Alkalinity, total   Calcium  Chloride  Fluoride  Magnesium  \\\n",
       " 0  6400          -0.891760 -0.050806 -0.533897 -0.516370  -0.035487   \n",
       " 1  6401           0.154525 -0.033601  1.579584  3.462082  -0.046859   \n",
       " 2  6402          -0.867708 -0.024096 -0.195999 -0.558364  -0.061919   \n",
       " 3  6403          -0.687314 -0.038354 -0.443504 -0.184832  -0.053621   \n",
       " 4  6404           0.142499 -0.009838 -0.016288 -0.383754   0.066245   \n",
       " \n",
       "    Nitrate as N    Sodium  Specific Conductivity   Sulfate  \\\n",
       " 0     -0.406468 -0.089320              -0.719350 -0.600946   \n",
       " 1     -0.426968  0.426619               1.778764  1.276263   \n",
       " 2     -0.467969 -0.061844              -0.414620 -0.457965   \n",
       " 3     -0.662725 -0.070823              -0.593774 -0.522537   \n",
       " 4      0.147050  0.002806               0.566543  0.907279   \n",
       " \n",
       "    Total Dissolved Solids  \n",
       " 0               -0.837047  \n",
       " 1                1.486886  \n",
       " 2               -0.559760  \n",
       " 3               -0.724812  \n",
       " 4                0.067438  )"
      ]
     },
     "execution_count": 45,
     "metadata": {},
     "output_type": "execute_result"
    }
   ],
   "source": [
    "# Features to be scaled (excluding 'id' and 'Hardness' in train data)\n",
    "features_to_scale = df_train.columns.drop(['id', 'Hardness'])\n",
    "\n",
    "# Initialize the StandardScaler\n",
    "scaler = StandardScaler()\n",
    "\n",
    "# Standardize the training features\n",
    "df_train[features_to_scale] = scaler.fit_transform(df_train[features_to_scale])\n",
    "\n",
    "# Standardize the test features\n",
    "df_test[features_to_scale] = scaler.transform(df_test[features_to_scale])\n",
    "\n",
    "# Display the first few rows of the standardized data\n",
    "df_train.head(), df_test.head()\n"
   ]
  },
  {
   "cell_type": "markdown",
   "metadata": {},
   "source": [
    "### <h3>Outliers Handling</h3>"
   ]
  },
  {
   "cell_type": "code",
   "execution_count": 46,
   "metadata": {},
   "outputs": [
    {
     "data": {
      "text/plain": [
       "Alkalinity, total          74\n",
       "Calcium                     2\n",
       "Chloride                   86\n",
       "Fluoride                   93\n",
       "Magnesium                   1\n",
       "Nitrate as N               86\n",
       "Sodium                      3\n",
       "Specific Conductivity      58\n",
       "Sulfate                   143\n",
       "Total Dissolved Solids    102\n",
       "dtype: int64"
      ]
     },
     "execution_count": 46,
     "metadata": {},
     "output_type": "execute_result"
    }
   ],
   "source": [
    "from scipy.stats import zscore\n",
    "\n",
    "# Calculate Z-scores for the training data features (excluding 'id' and 'Hardness')\n",
    "z_scores = df_train[features_to_scale].apply(zscore)\n",
    "\n",
    "# Identify outliers (Z-score > 3 or Z-score < -3)\n",
    "outliers = (z_scores.abs() > 3).sum()\n",
    "\n",
    "outliers\n"
   ]
  },
  {
   "cell_type": "code",
   "execution_count": 47,
   "metadata": {},
   "outputs": [
    {
     "data": {
      "text/plain": [
       "(   id  Alkalinity, total   Calcium  Chloride  Fluoride  Magnesium  \\\n",
       " 0   0          -0.338384 -0.446809 -0.413725  0.429309  -0.389831   \n",
       " 1   1          -0.136364 -0.085106 -0.333333 -0.247678  -0.423729   \n",
       " 2   2           0.065657  0.127660 -0.372549  0.990712  -0.276836   \n",
       " 3   3          -1.085859 -0.680851 -0.492157 -0.371517  -0.638418   \n",
       " 4   4           0.873737  2.170213  0.823529  1.609907   1.920904   \n",
       " \n",
       "    Nitrate as N    Sodium  Specific Conductivity   Sulfate  \\\n",
       " 0     -0.435362  0.333333              -0.021739 -0.136111   \n",
       " 1     -0.304348 -0.410256              -0.478261 -0.340278   \n",
       " 2      0.144928 -0.589744              -0.326087 -0.111111   \n",
       " 3     -0.455072 -0.733333              -0.891304 -0.388889   \n",
       " 4      1.391304  1.487179               1.934783  5.347222   \n",
       " \n",
       "    Total Dissolved Solids  Hardness  \n",
       " 0               -0.285714      90.4  \n",
       " 1               -0.464286     130.0  \n",
       " 2               -0.321429     160.0  \n",
       " 3               -0.796429      41.0  \n",
       " 4                2.250000     586.0  ,\n",
       "      id  Alkalinity, total   Calcium  Chloride  Fluoride  Magnesium  \\\n",
       " 0  6400          -0.611111 -0.619149 -0.478431 -0.454076  -0.118644   \n",
       " 1  6401           0.267677 -0.234043  3.372549  6.976264  -0.327684   \n",
       " 2  6402          -0.590909 -0.021277  0.137255 -0.532508  -0.604520   \n",
       " 3  6403          -0.439394 -0.340426 -0.313725  0.165119  -0.451977   \n",
       " 4  6404           0.257576  0.297872  0.464706 -0.206398   1.751412   \n",
       " \n",
       "    Nitrate as N    Sodium  Specific Conductivity   Sulfate  \\\n",
       " 0     -0.173913 -0.571795              -0.678261 -0.368056   \n",
       " 1     -0.202899  6.794872               2.565217  2.458333   \n",
       " 2     -0.260870 -0.179487              -0.282609 -0.152778   \n",
       " 3     -0.536232 -0.307692              -0.515217 -0.250000   \n",
       " 4      0.608696  0.743590               0.991304  1.902778   \n",
       " \n",
       "    Total Dissolved Solids  \n",
       " 0               -0.585714  \n",
       " 1                1.928571  \n",
       " 2               -0.285714  \n",
       " 3               -0.464286  \n",
       " 4                0.392857  )"
      ]
     },
     "execution_count": 47,
     "metadata": {},
     "output_type": "execute_result"
    }
   ],
   "source": [
    "from sklearn.preprocessing import RobustScaler\n",
    "\n",
    "# Initialize the RobustScaler\n",
    "robust_scaler = RobustScaler()\n",
    "\n",
    "# Apply RobustScaler to the training features\n",
    "df_train[features_to_scale] = robust_scaler.fit_transform(df_train[features_to_scale])\n",
    "\n",
    "# Apply RobustScaler to the test features\n",
    "df_test[features_to_scale] = robust_scaler.transform(df_test[features_to_scale])\n",
    "\n",
    "# Display the first few rows of the robust scaled data\n",
    "df_train.head(), df_test.head()\n"
   ]
  },
  {
   "cell_type": "markdown",
   "metadata": {},
   "source": [
    "### <h3>Split data</h3>"
   ]
  },
  {
   "cell_type": "code",
   "execution_count": 59,
   "metadata": {},
   "outputs": [
    {
     "data": {
      "text/plain": [
       "((5120, 10), (1280, 10))"
      ]
     },
     "execution_count": 59,
     "metadata": {},
     "output_type": "execute_result"
    }
   ],
   "source": [
    "from sklearn.model_selection import train_test_split\n",
    "# Example to clean the column names from special JSON characters (if not already cleaned)\n",
    "df_train.columns = [col.replace('{', '').replace('}', '').replace(':', '').replace('\"', '').replace(',', '') for col in df_train.columns]\n",
    "\n",
    "# Extract features and target from the training data\n",
    "X = df_train.drop(['id', 'Hardness'], axis=1)\n",
    "y = df_train['Hardness']\n",
    "\n",
    "# Split the data into training and validation sets (80% train, 20% validation)\n",
    "X_train, X_val, y_train, y_val = train_test_split(X, y, test_size=0.2, random_state=42)\n",
    "\n",
    "X_train.shape, X_val.shape\n"
   ]
  },
  {
   "cell_type": "markdown",
   "metadata": {},
   "source": [
    "# **Modelling**"
   ]
  },
  {
   "cell_type": "markdown",
   "metadata": {},
   "source": [
    "# **LGBM**"
   ]
  },
  {
   "cell_type": "code",
   "execution_count": 60,
   "metadata": {},
   "outputs": [
    {
     "name": "stdout",
     "output_type": "stream",
     "text": [
      "[LightGBM] [Warning] Found whitespace in feature_names, replace with underlines\n",
      "[LightGBM] [Info] Auto-choosing row-wise multi-threading, the overhead of testing was 0.020108 seconds.\n",
      "You can set `force_row_wise=true` to remove the overhead.\n",
      "And if memory is not enough, you can set `force_col_wise=true`.\n",
      "[LightGBM] [Info] Total Bins 2447\n",
      "[LightGBM] [Info] Number of data points in the train set: 5120, number of used features: 10\n",
      "[LightGBM] [Warning] Found whitespace in feature_names, replace with underlines\n",
      "[LightGBM] [Info] Start training from score 215.428478\n",
      "Mean Absolute Error (MAE): 23.117998070757686\n",
      "Mean Squared Error (MSE): 1882.5699964959954\n",
      "R-squared (R2) Score: 0.9315032096598423\n"
     ]
    }
   ],
   "source": [
    "import lightgbm as lgb\n",
    "from sklearn.model_selection import train_test_split\n",
    "from sklearn.metrics import mean_absolute_error, mean_squared_error, r2_score\n",
    "\n",
    "\n",
    "# Initialize the LightGBM regressor\n",
    "lgbm_model = lgb.LGBMRegressor(\n",
    "    num_leaves=31,\n",
    "    max_depth=-1,\n",
    "    learning_rate=0.1,\n",
    "    n_estimators=100,\n",
    "    random_state=42\n",
    ")\n",
    "\n",
    "# Train the model on the training data\n",
    "lgbm_model.fit(X_train, y_train, eval_set=[(X_val, y_val)], eval_metric='mse')\n",
    "\n",
    "# Predict on the validation set\n",
    "y_pred_val = lgbm_model.predict(X_val)\n",
    "\n",
    "# Evaluate the model\n",
    "mae = mean_absolute_error(y_val, y_pred_val)\n",
    "mse = mean_squared_error(y_val, y_pred_val)\n",
    "r2 = r2_score(y_val, y_pred_val)\n",
    "\n",
    "print(f'Mean Absolute Error (MAE): {mae}')\n",
    "print(f'Mean Squared Error (MSE): {mse}')\n",
    "print(f'R-squared (R2) Score: {r2}')\n"
   ]
  },
  {
   "cell_type": "markdown",
   "metadata": {},
   "source": [
    "# **Prediction**"
   ]
  },
  {
   "cell_type": "code",
   "execution_count": 64,
   "metadata": {},
   "outputs": [],
   "source": [
    "# Prepare test features\n",
    "X_test = df_test.drop('id', axis=1)\n",
    "\n",
    "# Predict using the trained model\n",
    "y_test_pred = lgbm_model.predict(X_test)\n",
    "\n",
    "# Prepare submission dataframe\n",
    "submission_df = pd.DataFrame({'id': df_test['id'], 'Hardness': y_test_pred})\n",
    "\n",
    "# Save submission file\n",
    "submission_df.to_csv('submission.csv', index=False)\n"
   ]
  },
  {
   "cell_type": "code",
   "execution_count": 62,
   "metadata": {},
   "outputs": [
    {
     "data": {
      "text/html": [
       "<div>\n",
       "<style scoped>\n",
       "    .dataframe tbody tr th:only-of-type {\n",
       "        vertical-align: middle;\n",
       "    }\n",
       "\n",
       "    .dataframe tbody tr th {\n",
       "        vertical-align: top;\n",
       "    }\n",
       "\n",
       "    .dataframe thead th {\n",
       "        text-align: right;\n",
       "    }\n",
       "</style>\n",
       "<table border=\"1\" class=\"dataframe\">\n",
       "  <thead>\n",
       "    <tr style=\"text-align: right;\">\n",
       "      <th></th>\n",
       "      <th>id</th>\n",
       "      <th>Hardness</th>\n",
       "    </tr>\n",
       "  </thead>\n",
       "  <tbody>\n",
       "    <tr>\n",
       "      <th>0</th>\n",
       "      <td>6400</td>\n",
       "      <td>94.654242</td>\n",
       "    </tr>\n",
       "    <tr>\n",
       "      <th>1</th>\n",
       "      <td>6401</td>\n",
       "      <td>103.163794</td>\n",
       "    </tr>\n",
       "    <tr>\n",
       "      <th>2</th>\n",
       "      <td>6402</td>\n",
       "      <td>115.813054</td>\n",
       "    </tr>\n",
       "    <tr>\n",
       "      <th>3</th>\n",
       "      <td>6403</td>\n",
       "      <td>96.040250</td>\n",
       "    </tr>\n",
       "    <tr>\n",
       "      <th>4</th>\n",
       "      <td>6404</td>\n",
       "      <td>307.917352</td>\n",
       "    </tr>\n",
       "    <tr>\n",
       "      <th>...</th>\n",
       "      <td>...</td>\n",
       "      <td>...</td>\n",
       "    </tr>\n",
       "    <tr>\n",
       "      <th>1596</th>\n",
       "      <td>7996</td>\n",
       "      <td>86.235820</td>\n",
       "    </tr>\n",
       "    <tr>\n",
       "      <th>1597</th>\n",
       "      <td>7997</td>\n",
       "      <td>51.843164</td>\n",
       "    </tr>\n",
       "    <tr>\n",
       "      <th>1598</th>\n",
       "      <td>7998</td>\n",
       "      <td>213.004619</td>\n",
       "    </tr>\n",
       "    <tr>\n",
       "      <th>1599</th>\n",
       "      <td>7999</td>\n",
       "      <td>242.705755</td>\n",
       "    </tr>\n",
       "    <tr>\n",
       "      <th>1600</th>\n",
       "      <td>8000</td>\n",
       "      <td>178.259599</td>\n",
       "    </tr>\n",
       "  </tbody>\n",
       "</table>\n",
       "<p>1601 rows × 2 columns</p>\n",
       "</div>"
      ],
      "text/plain": [
       "        id    Hardness\n",
       "0     6400   94.654242\n",
       "1     6401  103.163794\n",
       "2     6402  115.813054\n",
       "3     6403   96.040250\n",
       "4     6404  307.917352\n",
       "...    ...         ...\n",
       "1596  7996   86.235820\n",
       "1597  7997   51.843164\n",
       "1598  7998  213.004619\n",
       "1599  7999  242.705755\n",
       "1600  8000  178.259599\n",
       "\n",
       "[1601 rows x 2 columns]"
      ]
     },
     "execution_count": 62,
     "metadata": {},
     "output_type": "execute_result"
    }
   ],
   "source": [
    "submission_df"
   ]
  },
  {
   "cell_type": "code",
   "execution_count": null,
   "metadata": {},
   "outputs": [],
   "source": []
  }
 ],
 "metadata": {
  "kernelspec": {
   "display_name": "Python 3 (ipykernel)",
   "language": "python",
   "name": "python3"
  },
  "language_info": {
   "codemirror_mode": {
    "name": "ipython",
    "version": 3
   },
   "file_extension": ".py",
   "mimetype": "text/x-python",
   "name": "python",
   "nbconvert_exporter": "python",
   "pygments_lexer": "ipython3",
   "version": "3.12.2"
  }
 },
 "nbformat": 4,
 "nbformat_minor": 4
}
